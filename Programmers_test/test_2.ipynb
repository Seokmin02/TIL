{
 "cells": [
  {
   "cell_type": "markdown",
   "id": "c997e082",
   "metadata": {},
   "source": [
    "## 1. 문자열 내 p와 y의 개수.\n",
    "대문자와 소문자가 섞여있는 문자열 s가 주어집니다. s에 'p'의 개수와 'y'의 개수를 비교해 같으면 True, 다르면 False를 return 하는 solution를 완성하세요. 'p', 'y' 모두 하나도 없는 경우는 항상 True를 리턴합니다. 단, 개수를 비교할 때 대문자와 소문자는 구별하지 않습니다.  \n",
    "\n",
    "예를 들어 s가 \"pPoooyY\"면 true를 return하고 \"Pyy\"라면 false를 return합니다."
   ]
  },
  {
   "cell_type": "code",
   "execution_count": null,
   "id": "e7a9fddb",
   "metadata": {},
   "outputs": [
    {
     "name": "stdout",
     "output_type": "stream",
     "text": [
      "False\n"
     ]
    }
   ],
   "source": [
    "def solution(s):\n",
    "    s = s.upper()\n",
    "    if s.count(\"Y\") == s.count(\"P\"):\n",
    "        return True\n",
    "    else:\n",
    "        return False\n",
    "\n",
    "print(solution(\"ASDFY\"))"
   ]
  },
  {
   "cell_type": "markdown",
   "id": "b7373a54",
   "metadata": {},
   "source": [
    "### 1. 문자열 내 p와 y의 개수 다른풀이"
   ]
  },
  {
   "cell_type": "code",
   "execution_count": 16,
   "id": "1b1af855",
   "metadata": {},
   "outputs": [
    {
     "data": {
      "text/plain": [
       "False"
      ]
     },
     "execution_count": 16,
     "metadata": {},
     "output_type": "execute_result"
    }
   ],
   "source": [
    "def solution(s):\n",
    "    return s.count(\"Y\") == s.count(\"P\")\n",
    "\n",
    "solution(\"ASDFY\")"
   ]
  },
  {
   "cell_type": "markdown",
   "id": "3632248c",
   "metadata": {},
   "source": [
    "## 2. 최대공약수와 최소공배수\n",
    "\n",
    "두 수를 입력받아 두 수의 최대공약수와 최소공배수를 반환하는 함수, solution을 완성해 보세요. 배열의 맨 앞에 최대공약수, 그다음 최소공배수를 넣어 반환하면 됩니다. 예를 들어 두 수 3, 12의 최대공약수는 3, 최소공배수는 12이므로 solution(3, 12)는 [3, 12]를 반환해야 합니다."
   ]
  },
  {
   "cell_type": "code",
   "execution_count": null,
   "id": "6f6dc834",
   "metadata": {},
   "outputs": [
    {
     "data": {
      "text/plain": [
       "(1, 15)"
      ]
     },
     "execution_count": 1,
     "metadata": {},
     "output_type": "execute_result"
    }
   ],
   "source": [
    "def solution(n, m):\n",
    "    big = max(n,m)\n",
    "    lst = []\n",
    "    for i in range(2,big):\n",
    "        if n % i == 0 and m % i == 0 :\n",
    "            lst.append(i)  # 석민아 뒤지고 싶냐 ㅋㅋ\n",
    "    if lst ==[]:\n",
    "        maxdv = 1 # 서로소 (공약수가 없을때)\n",
    "    else:\n",
    "        maxdv = lst[-1]\n",
    "    mindv = maxdv *(n // maxdv)*(m // maxdv)\n",
    "    return maxdv, mindv\n",
    "solution(3, 5)"
   ]
  },
  {
   "cell_type": "markdown",
   "id": "18f1a17f",
   "metadata": {},
   "source": [
    "## 3. 이상한 문자 만들기"
   ]
  },
  {
   "cell_type": "markdown",
   "id": "ba350cfd",
   "metadata": {},
   "source": [
    "문자열 s는 한 개 이상의 단어로 구성되어 있습니다. 각 단어는 하나 이상의 공백문자로 구분되어 있습니다. 각 단어의 짝수번째 알파벳은 대문자로, 홀수번째 알파벳은 소문자로 바꾼 문자열을 리턴하는 함수, solution을 완성하세요.."
   ]
  },
  {
   "cell_type": "code",
   "execution_count": null,
   "id": "c27d5674",
   "metadata": {},
   "outputs": [
    {
     "name": "stdout",
     "output_type": "stream",
     "text": [
      "TrY HeLlO WoRlD\n"
     ]
    }
   ],
   "source": [
    "def solution(s):\n",
    "    b = s.split(' ')\n",
    "    answer = []\n",
    "    c = []\n",
    "    for i in range(len(b)):\n",
    "        for j in range(len(b[i])):\n",
    "            if j % 2 == 0:\n",
    "                answer.append(b[i][j].upper())\n",
    "            else:\n",
    "                answer.append(b[i][j].lower())\n",
    "        if i != len(b) - 1:\n",
    "            answer.append(' ')\n",
    "    c = ''.join(answer)\n",
    "    return c\n",
    "\n",
    "print(solution(\"try hello world\"))"
   ]
  },
  {
   "cell_type": "markdown",
   "id": "634fc07f",
   "metadata": {},
   "source": [
    "### 3. 이상한 문자 만들기 다른 풀이"
   ]
  },
  {
   "cell_type": "code",
   "execution_count": 7,
   "id": "899b45e9",
   "metadata": {},
   "outputs": [
    {
     "name": "stdout",
     "output_type": "stream",
     "text": [
      "TrY HeLlO WoRlD\n"
     ]
    }
   ],
   "source": [
    "def toWeirdCase(s):\n",
    "    return \" \".join(map(lambda x: \"\".join([a.lower() if i % 2 else a.upper() for i, a in enumerate(x)]), s.split(\" \")))\n",
    "\n",
    "print(toWeirdCase(\"try hello world\"))"
   ]
  },
  {
   "cell_type": "markdown",
   "id": "53a0cddf",
   "metadata": {},
   "source": [
    "1. s.split(\" \")\n",
    "- 문자열 s를 공백 기준으로 나눠 단어 리스트로 만들어줌.\n",
    "- ex : \"try hello\" → [\"try\", \"hello\"]\n",
    "\n",
    "2. map(...)\n",
    "- map()은 리스트의 각 요소에 함수를 적용함.\n",
    "- x를 인덱스 i와 문자값 a로 가져와서\n",
    "- 인덱스 i % 2 == True일때 a.lower() 적용, 아니면 a.upper() 적용\n",
    "- ex : \"try\" → [(0,'t'), (1,'r'), (2,'y')] → 'TrY'\n",
    "  \n",
    "3. \" \".join(...)\n",
    "- 변환된 각 단어들을 다시 공백으로 연결해서 문자열로 만듦\n",
    "- ex : [\"TrY\", \"HeLlO\"] → \"TrY HeLlO\""
   ]
  },
  {
   "cell_type": "markdown",
   "id": "c46478b7",
   "metadata": {},
   "source": [
    "## 모의고사 1단계"
   ]
  },
  {
   "cell_type": "code",
   "execution_count": 33,
   "id": "97b8fc17",
   "metadata": {},
   "outputs": [
    {
     "name": "stdout",
     "output_type": "stream",
     "text": [
      "최고점수 : 2, [1, 2, 3]\n"
     ]
    },
    {
     "data": {
      "text/plain": [
       "[1, 2, 3]"
      ]
     },
     "execution_count": 33,
     "metadata": {},
     "output_type": "execute_result"
    }
   ],
   "source": [
    "def solution(answers):\n",
    "    num_1 = [1,2,3,4,5]\n",
    "    num_2 = [2,1,2,3,2,4,2,5]\n",
    "    num_3 = [3,3,1,1,2,2,4,4,5,5]\n",
    "    num_1_count = 0\n",
    "    num_2_count = 0\n",
    "    num_3_count = 0\n",
    "    for i in range(len(answers)):\n",
    "        if answers[i] == num_1[i % len(num_1)]:\n",
    "            num_1_count += 1\n",
    "        if answers[i] == num_2[i % len(num_2)]:\n",
    "            num_2_count += 1\n",
    "        if answers[i] == num_3[i % len(num_3)]:\n",
    "            num_3_count += 1\n",
    "\n",
    "    max_score = max(num_1_count,num_2_count,num_3_count)\n",
    "    best_num = []\n",
    "    if num_1_count == max_score:\n",
    "        best_num.append(1)\n",
    "    if num_2_count == max_score:\n",
    "        best_num.append(2)\n",
    "    if num_3_count == max_score:\n",
    "        best_num.append(3)\n",
    "\n",
    "    print(\"최고점수 : {}, {}\".format(max_score, best_num))\n",
    "    return best_num\n",
    "solution([1,3,2,4,2])"
   ]
  },
  {
   "cell_type": "markdown",
   "id": "4347e563",
   "metadata": {},
   "source": [
    "### 모의고사 1단계 다른 풀이"
   ]
  },
  {
   "cell_type": "code",
   "execution_count": 32,
   "id": "88d97ef9",
   "metadata": {},
   "outputs": [
    {
     "data": {
      "text/plain": [
       "[1, 2, 3]"
      ]
     },
     "execution_count": 32,
     "metadata": {},
     "output_type": "execute_result"
    }
   ],
   "source": [
    "def solution(answers):\n",
    "    pattern1 = [1,2,3,4,5]\n",
    "    pattern2 = [2,1,2,3,2,4,2,5]\n",
    "    pattern3 = [3,3,1,1,2,2,4,4,5,5]\n",
    "    score = [0, 0, 0]\n",
    "    result = []\n",
    "\n",
    "    for idx, answer in enumerate(answers):\n",
    "        if answer == pattern1[idx%len(pattern1)]:\n",
    "            score[0] += 1\n",
    "        if answer == pattern2[idx%len(pattern2)]:\n",
    "            score[1] += 1\n",
    "        if answer == pattern3[idx%len(pattern3)]:\n",
    "            score[2] += 1\n",
    "\n",
    "    for idx, s in enumerate(score):\n",
    "        if s == max(score):\n",
    "            result.append(idx+1)\n",
    "\n",
    "    return result\n",
    "\n",
    "solution([1,3,2,4,2])"
   ]
  }
 ],
 "metadata": {
  "kernelspec": {
   "display_name": "3.12.4",
   "language": "python",
   "name": "python3"
  },
  "language_info": {
   "codemirror_mode": {
    "name": "ipython",
    "version": 3
   },
   "file_extension": ".py",
   "mimetype": "text/x-python",
   "name": "python",
   "nbconvert_exporter": "python",
   "pygments_lexer": "ipython3",
   "version": "3.12.4"
  }
 },
 "nbformat": 4,
 "nbformat_minor": 5
}
