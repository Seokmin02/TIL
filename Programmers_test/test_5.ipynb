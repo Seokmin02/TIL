{
 "cells": [
  {
   "cell_type": "markdown",
   "id": "51d51570",
   "metadata": {},
   "source": [
    "## 1. 신고 결과 받기"
   ]
  },
  {
   "cell_type": "markdown",
   "id": "3ec9012c",
   "metadata": {},
   "source": [
    "# problem1\n",
    "'''\n",
    "이용자의 ID가 담긴 문자열 배열 id_list, 각 이용자가 신고한 이용자의 ID 정보가 담긴 문자열 배열 report, \n",
    "정지 기준이 되는 신고 횟수 k가 매개변수로 주어질 때, 각 유저별로 처리 결과 메일을 받은 횟수를 배열에 담아 return 하도록 solution 함수를 완성해주세요.\n",
    "'''\n",
    "\n",
    "#idea\n",
    "'''\n",
    "1) 각 유저별로 신고당한 횟수를 저장해야됨\n",
    "2) 신고당한 횟수 >= k 가 되면 정지되는 조건\n",
    "3) 유저가 신고해서 정지를 당하면 신고한 유저에게 메일을 가게 만들어야함\n",
    "+ 한사람이 여러번 신고한것을 한 번 신고한걸로 처리하는 코드도 필요함.\n",
    "---\n",
    "report 형태를 보면 공백으로 한칸이 띄워져 있는데 공백을 기준으로 나눠서 신고한 유저/ 신고당한 유저를 구분\n",
    "구분한 뒤 신고한 유저의 id를 key, 신고당한 유저의 id를 value로 하는 dic로 하는건 어떨까\n",
    "'''"
   ]
  },
  {
   "cell_type": "code",
   "execution_count": 1,
   "id": "7d33dc94",
   "metadata": {},
   "outputs": [
    {
     "name": "stdout",
     "output_type": "stream",
     "text": [
      "{'muzi': 'neo', 'apeach': 'muzi', 'frodo': 'neo'}\n"
     ]
    }
   ],
   "source": [
    "id_list =  [\"muzi\", \"frodo\", \"apeach\", \"neo\"]\n",
    "report = [\"muzi frodo\", \"apeach frodo\", \"frodo neo\", \"muzi neo\", \"apeach muzi\"]\n",
    "k = 2\n",
    "\n",
    "accuser = [] # 신고를 한 사람\n",
    "accused = [] # 신고 당한 사람\n",
    "black_list = [] # 신고를 k회 이상 받은 사람\n",
    "d = {}\n",
    "for i in range(len(report)):\n",
    "    p = report[i].split()\n",
    "    accuser.append(p[0])\n",
    "    accused.append(p[1])\n",
    "    d[p[0]] = p[1]\n",
    "print(d)\n",
    "# print(f\"신고를 한 사람: {accuser}\")\n",
    "# print(f\"신고 당한 사람 : {accused}\")\n",
    "# for id in id_list:\n",
    "#     print(f\"id: {id},   신고당한 횟수: {accused.count(id)}\")\n",
    "#     if accused.count(id) >= k:\n",
    "#         black_list.append(id)\n",
    "# print(black_list)"
   ]
  },
  {
   "cell_type": "markdown",
   "id": "1e8badb1",
   "metadata": {},
   "source": [
    "#### 문제 : 정지된 사람을 저장하는것까진 완성했지만, 정지된 사람을 신고한 사람을 어떻게 가져와야되는가?\n",
    "dictionary는 key 중복이 안되기 때문에 한사람이 두명 이상을 신고했을때는 위 방법대로라면 두 개 이상의 이름이 저장이 되지 않음.  \n",
    "위 방법은 신고를 한 사람을 key로 하고 신고를 당한 사람을 value로 했음.  \n",
    "~~밑에 주석 처리 된 코드를 보면 신고를 k번 이상 받아 정지된 사람을 저장하는 black_list 리스트가 있는데  \n",
    "이 리스트를 이용해서 반대로 정지된 사람을 key로 하고 정지된 사람을 신고한 사람을 value로 하는 dic로 하는건 어떨까?~~  \n",
    "=> return 하는 배열은 id_list에 담긴 id 순서대로 각 유저가 받은 결과 메일 수를 담으면 됩니다.  "
   ]
  },
  {
   "cell_type": "code",
   "execution_count": null,
   "id": "8cb2e004",
   "metadata": {},
   "outputs": [],
   "source": [
    "def solution(id_list, report, k):\n",
    "    cnt = {} # 메일 count \n",
    "    for id in id_list:\n",
    "        cnt[id] = 0\n",
    "    # print(cnt)\n",
    "\n",
    "    accuser = [] # 신고를 한 사람\n",
    "    accused = [] # 신고 당한 사람\n",
    "    black_list = [] # 신고를 k회 이상 받은 사람\n",
    "\n",
    "    for i in range(len(report)):\n",
    "        p = report[i].split()\n",
    "        accuser.append(p[0])\n",
    "        accused.append(p[1])\n",
    "\n",
    "    # print(f\"신고를 한 사람: {accuser}\")\n",
    "    # print(f\"신고 당한 사람 : {accused}\")\n",
    "    for id in id_list:\n",
    "        # print(f\"id: {id},   신고당한 횟수: {accused.count(id)}\")\n",
    "        if accused.count(id) >= k:\n",
    "            black_list.append(id)\n",
    "    print(black_list)\n",
    "    for j in range(len(black_list)):\n",
    "        for i in range(len(report)):\n",
    "            if black_list[j] in accused[i]:\n",
    "                print(accuser[i], black_list[j])\n",
    "                cnt[accuser[i]] += 1\n",
    "    print(cnt)\n",
    "    result = []\n",
    "    for id in id_list:\n",
    "        result.append(cnt[id])\n",
    "    return result"
   ]
  },
  {
   "cell_type": "markdown",
   "id": "1b3b7e39",
   "metadata": {},
   "source": [
    "한 유저를 여러 번 신고할 수도 있지만, 동일한 유저에 대한 신고 횟수는 1회로 처리되는 경우를 반영을 안했음.  \n",
    "테스트 1은 통과했지만 테스트 2에서 k = 3이고 con 이 ryan을 4번 신고한 경우는 1회 신고한것으로 되어야하지만  \n",
    "그대로 4번 신고한것으로 간주되어 ryan이 정지 id가 되면서 테스트 2에서 통과하지 못했음.\n",
    "```python\n",
    "for id in id_list:\n",
    "    print(f\"id: {id},   신고당한 횟수: {accused.count(id)}\")\n",
    "    if accused.count(id) >= k:\n",
    "        black_list.append(id)\n",
    "```\n",
    "이 코드를 수정하던가, 신고한 사람이랑 신고 당한 사람을 구분하는 리스트 형식을 바꾸던가 해야될듯 (2hour)"
   ]
  },
  {
   "cell_type": "markdown",
   "id": "5d96f2dd",
   "metadata": {},
   "source": [
    "<br><br>\n",
    "\n",
    "---\n",
    "### 2. [PCCE 기출문제] 10번 / 데이터 분석 (1hour)\n"
   ]
  },
  {
   "cell_type": "code",
   "execution_count": 10,
   "id": "62e21a03",
   "metadata": {},
   "outputs": [
    {
     "name": "stdout",
     "output_type": "stream",
     "text": [
      "[1, 2, 3] [20300104, 20300804, 20300401] [100, 847, 10] [80, 37, 8]\n"
     ]
    }
   ],
   "source": [
    "data = [[1, 20300104, 100, 80], [2, 20300804, 847, 37], [3, 20300401, 10, 8]]\n",
    "code = []\n",
    "date = []\n",
    "maximum = []\n",
    "remain = []\n",
    "for i in range(len(data)):\n",
    "    code.append(data[i][0])\n",
    "    date.append(data[i][1])\n",
    "    maximum.append(data[i][2])\n",
    "    remain.append(data[i][3])\n",
    "print(code, date, maximum, remain)\n",
    "\n",
    "val_ext = 20300501\n"
   ]
  },
  {
   "cell_type": "markdown",
   "id": "a805f65c",
   "metadata": {},
   "source": [
    "lambda 함수와 sort(key = ...) 를 이용하여 정렬  \n",
    "https://kyull-it.tistory.com/83"
   ]
  },
  {
   "cell_type": "code",
   "execution_count": null,
   "id": "5895626f",
   "metadata": {},
   "outputs": [
    {
     "name": "stdout",
     "output_type": "stream",
     "text": [
      "ext 값이 val_ext 보다 작은 데이터: [[1, 20300104, 100, 80], [3, 20300401, 10, 8]]\n",
      "sorting 된 데이터: [[3, 20300401, 10, 8], [1, 20300104, 100, 80]]\n"
     ]
    }
   ],
   "source": [
    "\n",
    "data = [[1, 20300104, 100, 80], [2, 20300804, 847, 37], [3, 20300401, 10, 8]]\n",
    "new_data = []\n",
    "val_ext = 20300501\n",
    "for i in range(len(data)):\n",
    "    if data[i][1] < val_ext: # ext 어떤 정보를 기준으로 데이터를 뽑아낼지, [1] 괄호 안 1 대신 변수 추가\n",
    "        new_data.append(data[i])\n",
    "print(f\"ext 값이 val_ext 보다 작은 데이터: {new_data}\")\n",
    "new_data.sort(key = lambda t:t[3]) # sort_by 뭘로 sorting 할건지, t[3] 괄호 안 3 대신 변수 추가\n",
    "print(f\"sorting 된 데이터: {new_data}\")"
   ]
  },
  {
   "cell_type": "code",
   "execution_count": null,
   "id": "3377f5dc",
   "metadata": {},
   "outputs": [
    {
     "name": "stdout",
     "output_type": "stream",
     "text": [
      "ext 값이 val_ext 보다 작은 데이터: [[1, 20300104, 100, 80], [3, 20300401, 10, 8]]\n",
      "sorting 된 데이터: [[3, 20300401, 10, 8], [1, 20300104, 100, 80]]\n",
      "[[3, 20300401, 10, 8], [1, 20300104, 100, 80]]\n"
     ]
    }
   ],
   "source": [
    "def solution(data, ext, val_ext, sort_by):\n",
    "    new_data = []\n",
    "    if ext == \"code\":\n",
    "        k = 0\n",
    "    elif ext == \"date\":\n",
    "        k = 1\n",
    "    elif ext == \"maximum\":\n",
    "        k = 2\n",
    "    else:\n",
    "        k = 3\n",
    "\n",
    "    if sort_by == \"code\":\n",
    "        l = 0\n",
    "    elif sort_by == \"date\":\n",
    "        l = 1\n",
    "    elif sort_by == \"maximum\":\n",
    "        l = 2\n",
    "    else:\n",
    "        l = 3\n",
    "    for i in range(len(data)):\n",
    "        if data[i][k] < val_ext: # ext 어떤 정보를 기준으로 데이터를 뽑아낼지\n",
    "            new_data.append(data[i])\n",
    "    # print(f\"ext 값이 val_ext 보다 작은 데이터: {new_data}\")\n",
    "    new_data.sort(key = lambda t:t[l]) # sort_by 뭘로 sorting 할건지\n",
    "    # print(f\"sorting 된 데이터: {new_data}\")\n",
    "    return new_data\n",
    "\n",
    "print(solution([[1, 20300104, 100, 80], [2, 20300804, 847, 37], [3, 20300401, 10, 8]],\"date\",20300501,\"remain\"))"
   ]
  },
  {
   "cell_type": "markdown",
   "id": "2f8d02af",
   "metadata": {},
   "source": [
    "<br><br>\n",
    "\n",
    "---\n",
    "## 3. JadenCase 문자열 만들기"
   ]
  },
  {
   "cell_type": "code",
   "execution_count": 33,
   "id": "b030ac8b",
   "metadata": {},
   "outputs": [
    {
     "name": "stdout",
     "output_type": "stream",
     "text": [
      "['3people', 'unFollowed', 'me']\n",
      "3people\n",
      "Unfollowed\n",
      "Me\n",
      "3people Unfollowed Me\n"
     ]
    }
   ],
   "source": [
    "def solution(s):\n",
    "    k = s.split(\" \")\n",
    "    result = []\n",
    "    print(k)\n",
    "    for i in range(len(k)):\n",
    "        f = k[i][0].upper()\n",
    "        t = k[i][1:].lower()\n",
    "        k[i] = f + t\n",
    "        print(k[i])\n",
    "        result.append(k[i])\n",
    "    result = ' '.join(result)\n",
    "    return result\n",
    "\n",
    "print(solution(\"3people unFollowed me\"))"
   ]
  },
  {
   "cell_type": "markdown",
   "id": "81231c4e",
   "metadata": {},
   "source": [
    "코드 실행 통과  \n",
    "테스트 2,4,5,8,9,11,12,13,14,17 실패  \n",
    "\n",
    "문제 중 \"공백문자가 연속해서 나올 수 있습니다.\" 라는게 있는데 이것때문인가?"
   ]
  },
  {
   "cell_type": "code",
   "execution_count": 103,
   "id": "ba7bb0e2",
   "metadata": {},
   "outputs": [
    {
     "name": "stdout",
     "output_type": "stream",
     "text": [
      "['3people', '', '', 'unFollowed', 'me']\n",
      "3people\n"
     ]
    },
    {
     "ename": "IndexError",
     "evalue": "string index out of range",
     "output_type": "error",
     "traceback": [
      "\u001b[31m---------------------------------------------------------------------------\u001b[39m",
      "\u001b[31mIndexError\u001b[39m                                Traceback (most recent call last)",
      "\u001b[36mCell\u001b[39m\u001b[36m \u001b[39m\u001b[32mIn[103]\u001b[39m\u001b[32m, line 14\u001b[39m\n\u001b[32m     11\u001b[39m     result = \u001b[33m'\u001b[39m\u001b[33m \u001b[39m\u001b[33m'\u001b[39m.join(result)\n\u001b[32m     12\u001b[39m     \u001b[38;5;28;01mreturn\u001b[39;00m result\n\u001b[32m---> \u001b[39m\u001b[32m14\u001b[39m \u001b[38;5;28mprint\u001b[39m(\u001b[43msolution\u001b[49m\u001b[43m(\u001b[49m\u001b[33;43m\"\u001b[39;49m\u001b[33;43m3people   unFollowed me\u001b[39;49m\u001b[33;43m\"\u001b[39;49m\u001b[43m)\u001b[49m)\n",
      "\u001b[36mCell\u001b[39m\u001b[36m \u001b[39m\u001b[32mIn[103]\u001b[39m\u001b[32m, line 6\u001b[39m, in \u001b[36msolution\u001b[39m\u001b[34m(s)\u001b[39m\n\u001b[32m      4\u001b[39m \u001b[38;5;28mprint\u001b[39m(k)\n\u001b[32m      5\u001b[39m \u001b[38;5;28;01mfor\u001b[39;00m i \u001b[38;5;129;01min\u001b[39;00m \u001b[38;5;28mrange\u001b[39m(\u001b[38;5;28mlen\u001b[39m(k)):\n\u001b[32m----> \u001b[39m\u001b[32m6\u001b[39m     f = \u001b[43mk\u001b[49m\u001b[43m[\u001b[49m\u001b[43mi\u001b[49m\u001b[43m]\u001b[49m\u001b[43m[\u001b[49m\u001b[32;43m0\u001b[39;49m\u001b[43m]\u001b[49m.upper()\n\u001b[32m      7\u001b[39m     t = k[i][\u001b[32m1\u001b[39m:].lower()\n\u001b[32m      8\u001b[39m     k[i] = f + t\n",
      "\u001b[31mIndexError\u001b[39m: string index out of range"
     ]
    }
   ],
   "source": [
    "def solution(s):\n",
    "    k = s.split(\" \")\n",
    "    result = []\n",
    "    print(k)\n",
    "    for i in range(len(k)):\n",
    "        f = k[i][0].upper()\n",
    "        t = k[i][1:].lower()\n",
    "        k[i] = f + t\n",
    "        print(k[i])\n",
    "        result.append(k[i])\n",
    "    result = ' '.join(result)\n",
    "    return result\n",
    "\n",
    "print(solution(\"3people   unFollowed me\"))"
   ]
  },
  {
   "cell_type": "markdown",
   "id": "765a4f5d",
   "metadata": {},
   "source": [
    "공백문자가 중간에 두개 이상 들어가니 IndexError가 발생함. 이것때문인듯"
   ]
  },
  {
   "cell_type": "code",
   "execution_count": 110,
   "id": "03173c70",
   "metadata": {},
   "outputs": [
    {
     "name": "stdout",
     "output_type": "stream",
     "text": [
      "3people Unfollowed Me\n"
     ]
    }
   ],
   "source": [
    "def solution(s):\n",
    "    k = s.split(\" \")\n",
    "    cnt = 0\n",
    "    for i in range(len(k)):\n",
    "        # print(f\"k[i]:{k[i]}\")\n",
    "        if k[i] == '':\n",
    "            cnt += 1\n",
    "        k[i] = k[i].strip(' ')\n",
    "    for i in range(cnt):\n",
    "        k.remove('')\n",
    "    result = []\n",
    "    # print(k)\n",
    "    for i in range(len(k)):\n",
    "        f = k[i][0].upper()\n",
    "        t = k[i][1:].lower()\n",
    "        k[i] = f + t\n",
    "        # print(k[i])\n",
    "        result.append(k[i])\n",
    "    result = ' '.join(result)\n",
    "    return result\n",
    "\n",
    "print(solution(\"   3people   unFollowed me\"))"
   ]
  },
  {
   "cell_type": "markdown",
   "id": "3fa80a46",
   "metadata": {},
   "source": [
    "이제는 런타임 에러가 아니라 실패로 나옴. 뭐가 문제인거지  \n",
    "1. 공백을 처리하는 과정에서 시간이 너무 오래걸려서\n",
    "2. 반례가 있는 경우 (근데 반례는 생각을 해봤는데 잘 모르겠음..)"
   ]
  },
  {
   "cell_type": "code",
   "execution_count": 115,
   "id": "1ca5fef4",
   "metadata": {},
   "outputs": [
    {
     "name": "stdout",
     "output_type": "stream",
     "text": [
      "3pe O P L E Unfollowed Me\n"
     ]
    }
   ],
   "source": [
    "def solution(s):\n",
    "    before = []\n",
    "    result = []\n",
    "    k = s.split(\" \")\n",
    "    for i in range(len(k)):\n",
    "        if k[i] != '':\n",
    "            before.append(k[i])\n",
    "    for i in range(len(before)):\n",
    "        f = before[i][0].upper()\n",
    "        t = before[i][1:].lower()\n",
    "        before[i] = f + t\n",
    "        result.append(before[i])\n",
    "    result = ' '.join(result)\n",
    "    return result\n",
    "\n",
    "print(solution(\"     3pe o p l  e unFollowed me   \"))"
   ]
  },
  {
   "cell_type": "markdown",
   "id": "59badb5f",
   "metadata": {},
   "source": [
    "계산속도는 전보다 빨라졌지만 여전히 같은 테스트들이 실패하는중.  \n",
    "반례를 찾아서 코드를 수정하는것이 정답인것같음.  \n",
    "혹시 \"숫자로만 이루어진 단어는 없습니다.\" 라는게 숫자로 이루어진 단어가 input 되면 return에서 아예 빼버리라는말인가?"
   ]
  },
  {
   "cell_type": "code",
   "execution_count": 132,
   "id": "eb0b5786",
   "metadata": {},
   "outputs": [
    {
     "name": "stdout",
     "output_type": "stream",
     "text": [
      "3pe O P L E Unfollowed Me\n"
     ]
    }
   ],
   "source": [
    "def solution(s):\n",
    "    before = []\n",
    "    result = []\n",
    "    k = s.split(\" \")\n",
    "    for i in range(len(k)):\n",
    "        if k[i] != '':\n",
    "            before.append(k[i])\n",
    "    for i in range(len(before)):\n",
    "        f = before[i][0].upper()\n",
    "        t = before[i][1:].lower()\n",
    "        before[i] = f + t\n",
    "        for p in range(10):\n",
    "            if str(p) in t:\n",
    "                before[i] = ''\n",
    "        if before[i] == '':\n",
    "            pass\n",
    "        else:\n",
    "            result.append(before[i])\n",
    "    result = ' '.join(result)\n",
    "    return result\n",
    "\n",
    "print(solution(\"     3pe o p l 2323 e unFollowed me   \"))"
   ]
  },
  {
   "cell_type": "markdown",
   "id": "d78533ab",
   "metadata": {},
   "source": [
    "\"숫자로만 이루어진 단어는 없습니다.\" 라는게 숫자로 이루어진 단어가 input 되면 return에서 아예 빼버리라는말은 아닌듯 (2 hour)"
   ]
  },
  {
   "cell_type": "markdown",
   "id": "6ee24352",
   "metadata": {},
   "source": [
    "<br><br>\n",
    "\n",
    "---\n",
    "## 4. H-Index"
   ]
  },
  {
   "cell_type": "code",
   "execution_count": 181,
   "id": "16bb5649",
   "metadata": {},
   "outputs": [
    {
     "name": "stdout",
     "output_type": "stream",
     "text": [
      "3\n"
     ]
    }
   ],
   "source": [
    "def solution(citations):\n",
    "    citations.sort(reverse = True)\n",
    "    # print(citations)\n",
    "    for i in citations:\n",
    "        # print(i)\n",
    "        cnt = 0\n",
    "        for j in range(len(citations)):\n",
    "            if citations[j] >= i:\n",
    "                cnt += 1\n",
    "        if cnt >= i:\n",
    "            return cnt\n",
    "\n",
    "print(solution([3, 0, 6, 1, 5]))"
   ]
  },
  {
   "cell_type": "code",
   "execution_count": null,
   "id": "dbb49441",
   "metadata": {},
   "outputs": [
    {
     "name": "stdout",
     "output_type": "stream",
     "text": [
      "[10, 9, 8, 7, 6, 5, 4, 3, 2, 1]\n",
      "cnt: 1      citations[j]: 10        i: 10\n",
      "cnt: 1      citations[j]: 10        i: 9\n",
      "cnt: 2      citations[j]: 9        i: 9\n",
      "cnt: 1      citations[j]: 10        i: 8\n",
      "cnt: 2      citations[j]: 9        i: 8\n",
      "cnt: 3      citations[j]: 8        i: 8\n",
      "cnt: 1      citations[j]: 10        i: 7\n",
      "cnt: 2      citations[j]: 9        i: 7\n",
      "cnt: 3      citations[j]: 8        i: 7\n",
      "cnt: 4      citations[j]: 7        i: 7\n",
      "cnt: 1      citations[j]: 10        i: 6\n",
      "cnt: 2      citations[j]: 9        i: 6\n",
      "cnt: 3      citations[j]: 8        i: 6\n",
      "cnt: 4      citations[j]: 7        i: 6\n",
      "cnt: 5      citations[j]: 6        i: 6\n",
      "cnt: 1      citations[j]: 10        i: 5\n",
      "cnt: 2      citations[j]: 9        i: 5\n",
      "cnt: 3      citations[j]: 8        i: 5\n",
      "cnt: 4      citations[j]: 7        i: 5\n",
      "cnt: 5      citations[j]: 6        i: 5\n",
      "cnt: 6      citations[j]: 5        i: 5\n",
      "6\n"
     ]
    }
   ],
   "source": [
    "def solution(citations):\n",
    "    citations.sort(reverse = True)\n",
    "    print(citations)\n",
    "    for i in citations:\n",
    "        # print(i)\n",
    "        cnt = 0\n",
    "        for j in range(len(citations)):\n",
    "            if citations[j] >= i:\n",
    "                cnt += 1\n",
    "                print(f\"cnt: {cnt}      citations[j]: {citations[j]}        i: {i}\")\n",
    "        if cnt >= i:\n",
    "            return citations[j]\n",
    "\n",
    "print(solution(\t[1, 2, 3, 4, 5, 6, 7, 8, 9, 10]))"
   ]
  }
 ],
 "metadata": {
  "kernelspec": {
   "display_name": "3.12.4",
   "language": "python",
   "name": "python3"
  },
  "language_info": {
   "codemirror_mode": {
    "name": "ipython",
    "version": 3
   },
   "file_extension": ".py",
   "mimetype": "text/x-python",
   "name": "python",
   "nbconvert_exporter": "python",
   "pygments_lexer": "ipython3",
   "version": "3.12.4"
  }
 },
 "nbformat": 4,
 "nbformat_minor": 5
}
