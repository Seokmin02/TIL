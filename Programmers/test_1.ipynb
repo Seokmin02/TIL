{
 "cells": [
  {
   "cell_type": "markdown",
   "id": "737d880f",
   "metadata": {},
   "source": [
    "## 1. 숨어있는 숫자의 덧셈 (2)"
   ]
  },
  {
   "cell_type": "code",
   "execution_count": 8,
   "id": "e9d951f0",
   "metadata": {},
   "outputs": [
    {
     "name": "stdout",
     "output_type": "stream",
     "text": [
      "55\n"
     ]
    }
   ],
   "source": [
    "def solution(my_string):\n",
    "    lst = list(my_string)\n",
    "    for i in range(len(lst)):\n",
    "        try :\n",
    "            lst[i] = int(lst[i])\n",
    "        except:\n",
    "            lst[i] = \"x\"\n",
    "    result = ''.join(str(x) for x in lst)\n",
    "    k = result.split(\"x\")\n",
    "\n",
    "    answer = 0\n",
    "    for i in range(len(k)):\n",
    "        if k[i] == '':\n",
    "            pass\n",
    "        else:\n",
    "            answer += int(k[i])\n",
    "    return answer\n",
    "\n",
    "print(solution(\"20fg35\"))"
   ]
  },
  {
   "cell_type": "markdown",
   "id": "9352d87b",
   "metadata": {},
   "source": [
    "### 숨어있는 숫자의 덧셈(2) 다른 풀이"
   ]
  },
  {
   "cell_type": "code",
   "execution_count": 10,
   "id": "fe9900a4",
   "metadata": {},
   "outputs": [
    {
     "name": "stdout",
     "output_type": "stream",
     "text": [
      "55\n"
     ]
    }
   ],
   "source": [
    "def solution(my_string):\n",
    "    s = ''.join(i if i.isdigit() else ' ' for i in my_string)\n",
    "    return sum(int(i) for i in s.split())\n",
    "\n",
    "print(solution(\"20fg35\"))"
   ]
  },
  {
   "cell_type": "markdown",
   "id": "a1f3b889",
   "metadata": {},
   "source": [
    "## 2. 공 던지기"
   ]
  },
  {
   "cell_type": "code",
   "execution_count": 57,
   "id": "1b7c5902",
   "metadata": {},
   "outputs": [
    {
     "name": "stdout",
     "output_type": "stream",
     "text": [
      "7\n"
     ]
    }
   ],
   "source": [
    "def solution(numbers, k):\n",
    "    answer = 2*k - 1 - (2*k-1)// len(numbers) * len(numbers)\n",
    "    if answer == 0:\n",
    "        answer = numbers[-1]\n",
    "    return answer\n",
    "\n",
    "print(solution([1,2,3,4,5,6,7], 4))"
   ]
  },
  {
   "cell_type": "markdown",
   "id": "c6dcb94b",
   "metadata": {},
   "source": [
    "### 공던지기 다른 풀이"
   ]
  },
  {
   "cell_type": "code",
   "execution_count": 56,
   "id": "702b1bc6",
   "metadata": {},
   "outputs": [
    {
     "name": "stdout",
     "output_type": "stream",
     "text": [
      "1\n"
     ]
    }
   ],
   "source": [
    "def solution(numbers, k):\n",
    "    return numbers[2 * (k - 1) % len(numbers)]\n",
    "\n",
    "print(solution([1,2,3], 1))"
   ]
  },
  {
   "cell_type": "markdown",
   "id": "b431f091",
   "metadata": {},
   "source": [
    "### 3. 잘라서 배열로 저장하기"
   ]
  },
  {
   "cell_type": "code",
   "execution_count": 58,
   "id": "66a16556",
   "metadata": {},
   "outputs": [
    {
     "name": "stdout",
     "output_type": "stream",
     "text": [
      "['dflk', 'sj34', '509s', 'd8t']\n"
     ]
    }
   ],
   "source": [
    "def solution(my_str, n):\n",
    "    answer = []\n",
    "    for i in range(len(my_str)//n + 1):\n",
    "        answer.append(my_str[n*i:n*(i+1)])\n",
    "        if answer[-1] == '':\n",
    "            answer.pop()\n",
    "    return answer\n",
    "\n",
    "print(solution(\"dflksj34509sd8t\",4))"
   ]
  },
  {
   "cell_type": "markdown",
   "id": "3b2882cc",
   "metadata": {},
   "source": [
    "### 잘라서 배열로 저장하기 다른 풀이"
   ]
  },
  {
   "cell_type": "code",
   "execution_count": 60,
   "id": "f61a1159",
   "metadata": {},
   "outputs": [
    {
     "name": "stdout",
     "output_type": "stream",
     "text": [
      "['dflk', 'sj34', '509s', 'd8t']\n"
     ]
    }
   ],
   "source": [
    "def solution(my_str, n):\n",
    "    return [my_str[i: i + n] for i in range(0, len(my_str), n)]\n",
    "\n",
    "print(solution(\"dflksj34509sd8t\",4))\n"
   ]
  },
  {
   "cell_type": "markdown",
   "id": "f7af8bf0",
   "metadata": {},
   "source": [
    "## 4. 영어가 싫어요"
   ]
  },
  {
   "cell_type": "code",
   "execution_count": null,
   "id": "c93c3edb",
   "metadata": {},
   "outputs": [],
   "source": [
    "def solution(numbers):\n",
    "    num = ['zero', 'one', 'two', 'three', 'four', 'five', 'six', 'seven', 'eight', 'nine']\n",
    "    for i in range(10):\n",
    "        numbers = numbers.replace(num[i], str(i))\n",
    "    answer = int(numbers)\n",
    "    return answer\n",
    "\n",
    "print(solution(\"onetwothreefourfivesixseveneightnine\"))"
   ]
  },
  {
   "cell_type": "markdown",
   "id": "9fdf7afd",
   "metadata": {},
   "source": [
    "## 5. 종이 자르기"
   ]
  },
  {
   "cell_type": "code",
   "execution_count": null,
   "id": "5a7116bf",
   "metadata": {},
   "outputs": [],
   "source": [
    "def solution(M, N):\n",
    "    return (M-1) + M*(N-1)"
   ]
  },
  {
   "cell_type": "markdown",
   "id": "5e0a61bd",
   "metadata": {},
   "source": [
    "## 6. 소인수분해 (오류)"
   ]
  },
  {
   "cell_type": "code",
   "execution_count": null,
   "id": "a2363bd9",
   "metadata": {},
   "outputs": [],
   "source": [
    "def solution(n):\n",
    "    answer = []\n",
    "    for i in range(2,n):\n",
    "        if n % i == 0:\n",
    "            answer.append(i)\n",
    "    answer\n",
    "    \n",
    "    for j in range(len(answer)):\n",
    "        if answer[-1] % answer[j] == 0:\n",
    "            print(answer)\n",
    "            print(j)\n",
    "            answer.pop()\n",
    "    return answer\n",
    "\n",
    "print(solution(100))"
   ]
  },
  {
   "cell_type": "markdown",
   "id": "e3888bb8",
   "metadata": {},
   "source": [
    "## 7. 문자열 계산하기"
   ]
  },
  {
   "cell_type": "code",
   "execution_count": 54,
   "id": "8ce31dc2",
   "metadata": {},
   "outputs": [
    {
     "name": "stdout",
     "output_type": "stream",
     "text": [
      "1\n"
     ]
    }
   ],
   "source": [
    "def solution(my_string):\n",
    "    a = my_string.split(\" \") # 입력값을 공백을 기준으로 나눔\n",
    "    num = [] # 입력값을 공백을 기준으로 나눈것들 중 숫자는 num리스트로\n",
    "    cal = [] # 연산자는 cal 리스트로 넣어줌\n",
    "    for i in range(len(a)):\n",
    "        try: \n",
    "            num.append(int(a[i]))\n",
    "        except:\n",
    "            if a[i] == '+':\n",
    "                cal.append(\"+\")\n",
    "            elif a[i] == '-':\n",
    "                cal.append(\"-\")\n",
    "            else:\n",
    "                print(\"잘못된 연산수행입니다.\")\n",
    "                break\n",
    "    answer = num[0]\n",
    "\n",
    "    for k in range(len(num)-1):\n",
    "        if cal[k] == \"+\":\n",
    "            answer += num[k+1]\n",
    "        elif cal[k] == \"-\":\n",
    "            answer -= num[k+1]\n",
    "\n",
    "    return answer\n",
    "\n",
    "print(solution(\"1 + 2 + 3 - 4 + 5 - 6\"))"
   ]
  },
  {
   "cell_type": "markdown",
   "id": "93261bcb",
   "metadata": {},
   "source": [
    "### 문자열 계산하기 다른 풀이"
   ]
  },
  {
   "cell_type": "code",
   "execution_count": 55,
   "id": "2e49e47e",
   "metadata": {},
   "outputs": [
    {
     "name": "stdout",
     "output_type": "stream",
     "text": [
      "1\n"
     ]
    }
   ],
   "source": [
    "def solution(my_string):\n",
    "    return sum(int(i) for i in my_string.replace(' - ', ' + -').split(' + '))\n",
    "\n",
    "print(solution(\"1 + 2 + 3 - 4 + 5 - 6\"))"
   ]
  },
  {
   "cell_type": "markdown",
   "id": "1e75ced0",
   "metadata": {},
   "source": [
    "## 8. 외계어 사전(실패)"
   ]
  },
  {
   "cell_type": "code",
   "execution_count": null,
   "id": "6623f23b",
   "metadata": {},
   "outputs": [],
   "source": []
  }
 ],
 "metadata": {
  "kernelspec": {
   "display_name": "3.12.4",
   "language": "python",
   "name": "python3"
  },
  "language_info": {
   "codemirror_mode": {
    "name": "ipython",
    "version": 3
   },
   "file_extension": ".py",
   "mimetype": "text/x-python",
   "name": "python",
   "nbconvert_exporter": "python",
   "pygments_lexer": "ipython3",
   "version": "3.12.4"
  }
 },
 "nbformat": 4,
 "nbformat_minor": 5
}
