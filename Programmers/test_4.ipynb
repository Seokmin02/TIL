{
 "cells": [
  {
   "cell_type": "markdown",
   "id": "373a40b9",
   "metadata": {},
   "source": [
    "## 1. 옹알이 (1) (성공)"
   ]
  },
  {
   "cell_type": "markdown",
   "id": "6e2b76de",
   "metadata": {},
   "source": [
    "머쓱이는 태어난 지 6개월 된 조카를 돌보고 있습니다. 조카는 아직 \"aya\", \"ye\", \"woo\", \"ma\" 네 가지 발음을 최대 한 번씩 사용해 조합한(이어 붙인) 발음밖에 하지 못합니다. 문자열 배열 babbling이 매개변수로 주어질 때, 머쓱이의 조카가 발음할 수 있는 단어의 개수를 return하도록 solution 함수를 완성해주세요.  \n",
    "\n",
    "babbling의 각 문자열에서 \"aya\", \"ye\", \"woo\", \"ma\"는 각각 최대 한 번씩만 등장합니다.  \n",
    "즉, 각 문자열의 가능한 모든 부분 문자열 중에서 \"aya\", \"ye\", \"woo\", \"ma\"가 한 번씩만 등장합니다."
   ]
  },
  {
   "cell_type": "code",
   "execution_count": null,
   "id": "f24232c3",
   "metadata": {},
   "outputs": [
    {
     "name": "stdout",
     "output_type": "stream",
     "text": [
      "len(a): 64,    ['aya', 'ayaye', 'ayayewoo', 'ayayewooma', 'ayayema', 'ayayemawoo', 'ayawoo', 'ayawooye', 'ayawooyema', 'ayawooma', 'ayawoomaye', 'ayama', 'ayamaye', 'ayamayewoo', 'ayamawoo', 'ayamawooye', 'ye', 'yeaya', 'yeayawoo', 'yeayawooma', 'yeayama', 'yeayamawoo', 'yewoo', 'yewooaya', 'yewooayama', 'yewooma', 'yewoomaaya', 'yema', 'yemaaya', 'yemaayawoo', 'yemawoo', 'yemawooaya', 'woo', 'wooaya', 'wooayaye', 'wooayayema', 'wooayama', 'wooayamaye', 'wooye', 'wooyeaya', 'wooyeayama', 'wooyema', 'wooyemaaya', 'wooma', 'woomaaya', 'woomaayaye', 'woomaye', 'woomayeaya', 'ma', 'maaya', 'maayaye', 'maayayewoo', 'maayawoo', 'maayawooye', 'maye', 'mayeaya', 'mayeayawoo', 'mayewoo', 'mayewooaya', 'mawoo', 'mawooaya', 'mawooayaye', 'mawooye', 'mawooyeaya']\n",
      "3\n"
     ]
    }
   ],
   "source": [
    "def solution(babbling):\n",
    "    bab = [\"aya\", \"ye\", \"woo\", \"ma\"]\n",
    "    a = []\n",
    "    for i in range(len(bab)):\n",
    "        a.append(bab[i])\n",
    "        for j in range(len(bab)):\n",
    "            if i == j:\n",
    "                pass\n",
    "            else:\n",
    "                a.append(bab[i] + bab[j])\n",
    "            for k in range(len(bab)):\n",
    "                if i == j or i == k or j == k:\n",
    "                    pass\n",
    "                else:\n",
    "                    a.append(bab[i] + bab[j] + bab[k])\n",
    "                for l in range(len(bab)):\n",
    "                    if i == j or i == k or i == l or j == k or j == l or k == l:\n",
    "                        pass\n",
    "                    else:\n",
    "                        a.append(bab[i] + bab[j] + bab[k] + bab[l])\n",
    "    # print(f\"len(a): {len(a)},    {a}\")\n",
    "    count = 0\n",
    "    for i in range(len(babbling)):\n",
    "        if babbling[i] in a:\n",
    "            count += 1\n",
    "    return count\n",
    "print(solution([\"ayaye\", \"uuuma\", \"ye\", \"yemawoo\", \"ayaa\"]))"
   ]
  },
  {
   "cell_type": "markdown",
   "id": "4ffc8c8b",
   "metadata": {},
   "source": [
    "## 2. 달리기 경주 (시간초과)"
   ]
  },
  {
   "cell_type": "markdown",
   "id": "8b753406",
   "metadata": {},
   "source": [
    "얀에서는 매년 달리기 경주가 열립니다. 해설진들은 선수들이 자기 바로 앞의 선수를 추월할 때 추월한 선수의 이름을 부릅니다. 예를 들어 1등부터 3등까지 \"mumu\", \"soe\", \"poe\" 선수들이 순서대로 달리고 있을 때, 해설진이 \"soe\"선수를 불렀다면 2등인 \"soe\" 선수가 1등인 \"mumu\" 선수를 추월했다는 것입니다. 즉 \"soe\" 선수가 1등, \"mumu\" 선수가 2등으로 바뀝니다.  \n",
    "\n",
    "선수들의 이름이 1등부터 현재 등수 순서대로 담긴 문자열 배열 players와 해설진이 부른 이름을 담은 문자열 배열 callings가 매개변수로 주어질 때, 경주가 끝났을 때 선수들의 이름을 1등부터 등수 순서대로 배열에 담아 return 하는 solution 함수를 완성해주세요."
   ]
  },
  {
   "cell_type": "code",
   "execution_count": 7,
   "id": "14fa2b7a",
   "metadata": {},
   "outputs": [
    {
     "data": {
      "text/plain": [
       "['poe', 'soe', 'mumu', 'kai', 'mine']"
      ]
     },
     "execution_count": 7,
     "metadata": {},
     "output_type": "execute_result"
    }
   ],
   "source": [
    "def solution(players, callings):\n",
    "    for i in callings:\n",
    "        n = players.index(i)\n",
    "        b = players[n]\n",
    "        players[n] = players[n-1]\n",
    "        players[n-1] = b\n",
    "    return players\n",
    "\n",
    "solution([\"mumu\", \"soe\", \"poe\", \"kai\", \"mine\"],\n",
    "               [\"soe\",\"poe\",\"kai\",\"mine\",\"poe\", \"kai\",\"mine\",\"mumu\",\"kai\",\"mine\",\"mumu\",\"soe\",\"mine\",\"mumu\",\"soe\",\"poe\",\"mumu\", \"soe\", \"poe\", \"kai\"\\\n",
    "                ,\"soe\",\"poe\",\"poe\"])"
   ]
  },
  {
   "cell_type": "markdown",
   "id": "1d62d248",
   "metadata": {},
   "source": [
    "그런데 제출 후 채점을 해보니 시간초과로 실패하는 케이스가 절반정도 생김.  \n",
    "내생각에는 calling 이 [\"kai\", \"kai\", \"mine\", \"mine\", \"soe\", \"poe\", \"soe\", \"poe\"] 이렇게 1등을 제외한 모든 사람을 같은 수만큼 부르면 처음 players와 같은 정답이 나옴.  \n",
    "calling 이 [\"soe\",\"poe\",\"kai\",\"mine\",\"poe\", \"kai\",\"mine\",\"mumu\",\"kai\",\"mine\",\"mumu\",\"soe\",\"mine\",\"mumu\",\"soe\",\"poe\",\"mumu\", \"soe\", \"poe\", \"kai\"] 인 경우 (모든 사람을 똑같은 숫자만큼 불렀을때) 처음 player와 같은 정답이 나옴.\n",
    "그렇기 때문에 calling을 하나씩 불러서 자리를 바꿀 필요 없이 부른 사람의 숫자를 count해서 마지막에 한꺼번에 연산을 수행하는게 더 효율적이지 않을까?"
   ]
  },
  {
   "cell_type": "markdown",
   "id": "6f6f6a5d",
   "metadata": {},
   "source": [
    "## 3. 피보나치 수(성공)"
   ]
  },
  {
   "cell_type": "markdown",
   "id": "ef8a326a",
   "metadata": {},
   "source": [
    "피보나치 수는 F(0) = 0, F(1) = 1일 때, 1 이상의 n에 대하여 F(n) = F(n-1) + F(n-2) 가 적용되는 수 입니다.  \n",
    "\n",
    "예를들어  \n",
    "\n",
    "F(2) = F(0) + F(1) = 0 + 1 = 1  \n",
    "F(3) = F(1) + F(2) = 1 + 1 = 2  \n",
    "F(4) = F(2) + F(3) = 1 + 2 = 3  \n",
    "F(5) = F(3) + F(4) = 2 + 3 = 5  \n",
    "와 같이 이어집니다.  \n",
    "\n",
    "2 이상의 n이 입력되었을 때, n번째 피보나치 수를 1234567으로 나눈 나머지를 리턴하는 함수, solution을 완성해 주세요."
   ]
  },
  {
   "cell_type": "code",
   "execution_count": null,
   "id": "d31c9bcb",
   "metadata": {},
   "outputs": [
    {
     "data": {
      "text/plain": [
       "55"
      ]
     },
     "execution_count": 2,
     "metadata": {},
     "output_type": "execute_result"
    }
   ],
   "source": [
    "def solution(n):\n",
    "    if n == 0:\n",
    "        return 0\n",
    "    elif n == 1:\n",
    "        return 1\n",
    "    else:\n",
    "        k = solution(n-1) + solution(n-2)\n",
    "        return k\n",
    "    \n",
    "solution(10)"
   ]
  },
  {
   "cell_type": "markdown",
   "id": "c0e828b2",
   "metadata": {},
   "source": [
    "### 🚨이런 문제가 있어요\n",
    "재귀 호출을 하면 n이 50 이상일 때  \n",
    "\n",
    "시간 초과가 나거나  \n",
    "Python이나 JavaScript 등 일부 언어에서는 런타임 에러가 납니다.  \n",
    "런타임 에러가 나는 이유: 일부 언어는 재귀 호출을 할 수 있는 횟수가 정해져 있고, 횟수를 넘어 재귀 호출을 하면 런타임 에러를 내도록 설계되어 있습니다.  "
   ]
  },
  {
   "cell_type": "code",
   "execution_count": null,
   "id": "b4664e6f",
   "metadata": {},
   "outputs": [
    {
     "name": "stdout",
     "output_type": "stream",
     "text": [
      "14930352\n"
     ]
    }
   ],
   "source": [
    "# F(n) = F(n-2) + F(n-1)\n",
    "def solution(n):\n",
    "    f_n2 = 0\n",
    "    f_n1 = 1\n",
    "    for i in range(n+1):\n",
    "        if i == 0:\n",
    "            f_n = 0\n",
    "        if i == 1:\n",
    "            f_n = 1\n",
    "        f_n2 = f_n1\n",
    "        f_n1 = f_n\n",
    "        f_n = f_n1 + f_n2\n",
    "        # print(f\"i: {i}  f_n1: {f_n1}\")\n",
    "    return f_n1 % 1234567"
   ]
  },
  {
   "cell_type": "markdown",
   "id": "dd0bc577",
   "metadata": {},
   "source": [
    "## 4. 숫자의 표현 (효율성 불합격)"
   ]
  },
  {
   "cell_type": "markdown",
   "id": "d88f735a",
   "metadata": {},
   "source": [
    "Finn은 요즘 수학공부에 빠져 있습니다. 수학 공부를 하던 Finn은 자연수 n을 연속한 자연수들로 표현 하는 방법이 여러개라는 사실을 알게 되었습니다. 예를들어 15는 다음과 같이 4가지로 표현 할 수 있습니다.  \n",
    "\n",
    "1 + 2 + 3 + 4 + 5 = 15  \n",
    "4 + 5 + 6 = 15  \n",
    "7 + 8 = 15  \n",
    "15 = 15  \n",
    "자연수 n이 매개변수로 주어질 때, 연속된 자연수들로 n을 표현하는 방법의 수를 return하는 solution를 완성해주세요."
   ]
  },
  {
   "cell_type": "code",
   "execution_count": null,
   "id": "96d1f128",
   "metadata": {},
   "outputs": [
    {
     "name": "stdout",
     "output_type": "stream",
     "text": [
      "2\n"
     ]
    }
   ],
   "source": [
    "def solution(n):\n",
    "    count = 0\n",
    "    for i in range(1,n):\n",
    "        k = i\n",
    "        lst = []\n",
    "        for _ in range(1,n):\n",
    "            lst.append(k)\n",
    "            k += 1\n",
    "            # print(f\"k: {k}\")\n",
    "            # print(f\"lst: {lst}\")\n",
    "            if sum(lst) == n:\n",
    "                # print(f\"complete, lst: {lst}          k: {k}\")\n",
    "                count += 1\n",
    "    return count + 1\n",
    "\n",
    "print(solution(3))"
   ]
  },
  {
   "cell_type": "markdown",
   "id": "5eac82bb",
   "metadata": {},
   "source": [
    "정확성 테스트에서는 만점이지만 효율성 테스트에서 0점을 맞았음. completion time을 줄일 수 있는 방법은?"
   ]
  },
  {
   "cell_type": "code",
   "execution_count": 8,
   "id": "741944d2",
   "metadata": {},
   "outputs": [
    {
     "name": "stdout",
     "output_type": "stream",
     "text": [
      "4\n"
     ]
    }
   ],
   "source": [
    "def solution(n):\n",
    "    count = 0\n",
    "    for i in range(1,n//2+1):\n",
    "        k = i\n",
    "        lst = []\n",
    "        for _ in range(n - n//i , n):\n",
    "            if sum(lst) > n:\n",
    "                continue\n",
    "            else:\n",
    "                lst.append(k)\n",
    "                k += 1\n",
    "                # print(f\"k: {k}          lst: {lst}\") # 연산 확인\n",
    "                if sum(lst) == n:\n",
    "                    count += 1\n",
    "                    break\n",
    "    return count + 1\n",
    "\n",
    "print(solution(15))"
   ]
  },
  {
   "cell_type": "markdown",
   "id": "149b77e2",
   "metadata": {},
   "source": [
    "completion time을 줄이는 방법은?"
   ]
  },
  {
   "cell_type": "code",
   "execution_count": null,
   "id": "462be9aa",
   "metadata": {},
   "outputs": [
    {
     "name": "stdout",
     "output_type": "stream",
     "text": [
      "i:1       mid: 15      lst: [15]\n",
      "i:2       mid: 7      lst: [7, 8]\n",
      "i:3       mid: 5      lst: [4, 5, 6]\n",
      "i:4       mid: 3      lst: [2, 3, 4, 5]\n",
      "i:5       mid: 3      lst: [1, 2, 3, 4, 5]\n",
      "i:6       mid: 2      lst: [0, 1, 2, 3, 4, 5]\n",
      "4\n"
     ]
    }
   ],
   "source": [
    "def solution(n):\n",
    "    if n == 1:\n",
    "        return 1\n",
    "    count = 0\n",
    "    for i in range(1,n//2):\n",
    "        for _ in range(i):\n",
    "            mid = n//i\n",
    "            lst = []\n",
    "            if i == 1: # n == n 일때\n",
    "                k = mid\n",
    "                lst.append(k)\n",
    "            elif i % 2 == 0: # i가 짝수일때\n",
    "                k = mid - i//2 \n",
    "                for _ in range(i):\n",
    "                    k += 1\n",
    "                    lst.append(k)\n",
    "            else: # i가 홀수일때\n",
    "                k = mid - i//2 - 1\n",
    "                for _ in range(i):\n",
    "                    k += 1\n",
    "                    lst.append(k)\n",
    "        print(f\"i:{i}       mid: {mid}      lst: {lst}\") # 연산 확인\n",
    "        if lst[0] < 1:\n",
    "            break\n",
    "        if sum(lst) == n:\n",
    "            count += 1\n",
    "    return count\n",
    "\n",
    "\n",
    "print(solution(15))\n"
   ]
  }
 ],
 "metadata": {
  "kernelspec": {
   "display_name": "3.12.4",
   "language": "python",
   "name": "python3"
  },
  "language_info": {
   "codemirror_mode": {
    "name": "ipython",
    "version": 3
   },
   "file_extension": ".py",
   "mimetype": "text/x-python",
   "name": "python",
   "nbconvert_exporter": "python",
   "pygments_lexer": "ipython3",
   "version": "3.12.4"
  }
 },
 "nbformat": 4,
 "nbformat_minor": 5
}
