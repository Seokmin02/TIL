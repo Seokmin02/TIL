{
 "cells": [
  {
   "cell_type": "markdown",
   "id": "fd2b6632",
   "metadata": {},
   "source": [
    "## enumerate:\n",
    "- 순서가 있는 자료형(list, set, tuple, dictionary, string)을 입력으로 받았을 때, index와 값을 포함하여 return\n",
    "- for 문과 함께 자주 사용됨\n",
    "- 인덱스와 값을 동시에 접근하면서 루프를 돌리고 싶을때 사용"
   ]
  },
  {
   "cell_type": "markdown",
   "id": "257dcaae",
   "metadata": {},
   "source": [
    "### 예제 1 : how to use enumerate() inner function\n",
    "enuemrate 함수를 사용한 후 리스트로 바꾸니 각 요소의 인덱스값 리스트 쌍이 나옴."
   ]
  },
  {
   "cell_type": "code",
   "execution_count": null,
   "id": "dcadf6e4",
   "metadata": {},
   "outputs": [
    {
     "name": "stdout",
     "output_type": "stream",
     "text": [
      "['orange', 'apple', 'pear', 'banana', 'kiwi', 'apple', 'banana']\n",
      "[(0, 'orange'), (1, 'apple'), (2, 'pear'), (3, 'banana'), (4, 'kiwi'), (5, 'apple'), (6, 'banana')]\n"
     ]
    }
   ],
   "source": [
    "fruits = ['orange', 'apple', 'pear', 'banana', 'kiwi', 'apple', 'banana']\n",
    "print(fruits)\n",
    "\n",
    "print(list(enumerate(fruits)))\n",
    "\n"
   ]
  },
  {
   "cell_type": "markdown",
   "id": "a1b278bf",
   "metadata": {},
   "source": [
    "\n",
    "### 예제 2 : enumerate()의 매개변수\n",
    "enuemrate() 의 매개변수 안에 리스트값이 담긴 변수를 넣어도 되고, 아예 리스트를 집어넣어도 가능."
   ]
  },
  {
   "cell_type": "code",
   "execution_count": 2,
   "id": "6d739771",
   "metadata": {},
   "outputs": [
    {
     "name": "stdout",
     "output_type": "stream",
     "text": [
      "0 kim 1 lee 2 park 3 choi "
     ]
    }
   ],
   "source": [
    "for i, value in enumerate(['kim', 'lee', 'park', 'choi']):\n",
    "    print(i, value, end = \" \")\n"
   ]
  },
  {
   "cell_type": "markdown",
   "id": "8893faca",
   "metadata": {},
   "source": [
    "### 예제 3 : start = n\n",
    "start를 따로 설정하지 않으면 index = 0부터 시작하지만 strat = n을 설정 해주면 n부터 인덱스가 설정됨."
   ]
  },
  {
   "cell_type": "code",
   "execution_count": 3,
   "id": "600c6c25",
   "metadata": {},
   "outputs": [
    {
     "name": "stdout",
     "output_type": "stream",
     "text": [
      "\n",
      "1 kim 2 lee 3 park 4 choi "
     ]
    }
   ],
   "source": [
    "print(\"\")\n",
    "for i, value in enumerate(['kim', 'lee', 'park', 'choi'], start = 1):\n",
    "    print(i, value, end = \" \")"
   ]
  },
  {
   "cell_type": "markdown",
   "id": "f92deeef",
   "metadata": {},
   "source": [
    "### 예제 4 : enumerate() 안에서 input사용\n",
    "print(list(enumerate(input().split())))\n",
    "\n",
    "입력: zero one two three four  \n",
    "결과: [(0, 'zero'), (1, 'one'), (2, 'two'), (3, 'three'), (4, 'four')] \n"
   ]
  }
 ],
 "metadata": {
  "kernelspec": {
   "display_name": "3.12.4",
   "language": "python",
   "name": "python3"
  },
  "language_info": {
   "codemirror_mode": {
    "name": "ipython",
    "version": 3
   },
   "file_extension": ".py",
   "mimetype": "text/x-python",
   "name": "python",
   "nbconvert_exporter": "python",
   "pygments_lexer": "ipython3",
   "version": "3.12.4"
  }
 },
 "nbformat": 4,
 "nbformat_minor": 5
}
